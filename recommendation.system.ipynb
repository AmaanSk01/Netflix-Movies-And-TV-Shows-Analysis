{
 "cells": [
  {
   "cell_type": "code",
   "execution_count": 2,
   "id": "d0f4fc4e-8a42-466a-be57-a40f3f051040",
   "metadata": {},
   "outputs": [],
   "source": [
    "import pandas as pd"
   ]
  },
  {
   "cell_type": "code",
   "execution_count": 3,
   "id": "a1545ce7-98a3-4156-9ca2-bcb91f9102cb",
   "metadata": {},
   "outputs": [],
   "source": [
    "import sklearn"
   ]
  },
  {
   "cell_type": "code",
   "execution_count": 4,
   "id": "d0d59d96-6292-42f1-b1e4-d290ae8d852f",
   "metadata": {},
   "outputs": [],
   "source": [
    "from sklearn.feature_extraction.text import TfidfVectorizer"
   ]
  },
  {
   "cell_type": "code",
   "execution_count": 5,
   "id": "28db0af4-924e-4d71-8d06-ec786a64c8ae",
   "metadata": {},
   "outputs": [],
   "source": [
    "from sklearn.metrics.pairwise import cosine_similarity"
   ]
  },
  {
   "cell_type": "code",
   "execution_count": 6,
   "id": "8d233ea1-030b-4d6a-8ce7-8b874cdb002b",
   "metadata": {},
   "outputs": [],
   "source": [
    "# Load the Netflix data"
   ]
  },
  {
   "cell_type": "code",
   "execution_count": 7,
   "id": "c53b39b6-0e6e-4d7c-8cbe-666bdae6161c",
   "metadata": {},
   "outputs": [],
   "source": [
    "df = pd.read_csv('netflix_data.1.0.csv')"
   ]
  },
  {
   "cell_type": "code",
   "execution_count": 8,
   "id": "bf402f03-7946-4c04-98d5-9586b262af21",
   "metadata": {},
   "outputs": [
    {
     "data": {
      "text/html": [
       "<div>\n",
       "<style scoped>\n",
       "    .dataframe tbody tr th:only-of-type {\n",
       "        vertical-align: middle;\n",
       "    }\n",
       "\n",
       "    .dataframe tbody tr th {\n",
       "        vertical-align: top;\n",
       "    }\n",
       "\n",
       "    .dataframe thead th {\n",
       "        text-align: right;\n",
       "    }\n",
       "</style>\n",
       "<table border=\"1\" class=\"dataframe\">\n",
       "  <thead>\n",
       "    <tr style=\"text-align: right;\">\n",
       "      <th></th>\n",
       "      <th>show_id</th>\n",
       "      <th>type</th>\n",
       "      <th>title</th>\n",
       "      <th>director</th>\n",
       "      <th>cast</th>\n",
       "      <th>country</th>\n",
       "      <th>release_year</th>\n",
       "      <th>rating</th>\n",
       "      <th>duration</th>\n",
       "      <th>year_added</th>\n",
       "      <th>month_added</th>\n",
       "      <th>day_added</th>\n",
       "    </tr>\n",
       "  </thead>\n",
       "  <tbody>\n",
       "    <tr>\n",
       "      <th>0</th>\n",
       "      <td>S1</td>\n",
       "      <td>MOVIE</td>\n",
       "      <td>DICK JOHNSON IS DEAD</td>\n",
       "      <td>KIRSTEN JOHNSON</td>\n",
       "      <td>NAN</td>\n",
       "      <td>UNITED STATES</td>\n",
       "      <td>2020</td>\n",
       "      <td>13</td>\n",
       "      <td>90.0</td>\n",
       "      <td>2021.0</td>\n",
       "      <td>9.0</td>\n",
       "      <td>25.0</td>\n",
       "    </tr>\n",
       "    <tr>\n",
       "      <th>1</th>\n",
       "      <td>S2</td>\n",
       "      <td>TV SHOW</td>\n",
       "      <td>BLOOD &amp; WATER</td>\n",
       "      <td>NAN</td>\n",
       "      <td>AMA QAMATA, KHOSI NGEMA, GAIL MABALANE, THABAN...</td>\n",
       "      <td>SOUTH AFRICA</td>\n",
       "      <td>2021</td>\n",
       "      <td>18</td>\n",
       "      <td>2.0</td>\n",
       "      <td>2021.0</td>\n",
       "      <td>9.0</td>\n",
       "      <td>24.0</td>\n",
       "    </tr>\n",
       "    <tr>\n",
       "      <th>2</th>\n",
       "      <td>S3</td>\n",
       "      <td>TV SHOW</td>\n",
       "      <td>GANGLANDS</td>\n",
       "      <td>JULIEN LECLERCQ</td>\n",
       "      <td>SAMI BOUAJILA, TRACY GOTOAS, SAMUEL JOUY, NABI...</td>\n",
       "      <td>NAN</td>\n",
       "      <td>2021</td>\n",
       "      <td>18</td>\n",
       "      <td>1.0</td>\n",
       "      <td>2021.0</td>\n",
       "      <td>9.0</td>\n",
       "      <td>24.0</td>\n",
       "    </tr>\n",
       "    <tr>\n",
       "      <th>3</th>\n",
       "      <td>S4</td>\n",
       "      <td>TV SHOW</td>\n",
       "      <td>JAILBIRDS NEW ORLEANS</td>\n",
       "      <td>NAN</td>\n",
       "      <td>NAN</td>\n",
       "      <td>NAN</td>\n",
       "      <td>2021</td>\n",
       "      <td>18</td>\n",
       "      <td>1.0</td>\n",
       "      <td>2021.0</td>\n",
       "      <td>9.0</td>\n",
       "      <td>24.0</td>\n",
       "    </tr>\n",
       "    <tr>\n",
       "      <th>4</th>\n",
       "      <td>S5</td>\n",
       "      <td>TV SHOW</td>\n",
       "      <td>KOTA FACTORY</td>\n",
       "      <td>NAN</td>\n",
       "      <td>MAYUR MORE, JITENDRA KUMAR, RANJAN RAJ, ALAM K...</td>\n",
       "      <td>INDIA</td>\n",
       "      <td>2021</td>\n",
       "      <td>18</td>\n",
       "      <td>2.0</td>\n",
       "      <td>2021.0</td>\n",
       "      <td>9.0</td>\n",
       "      <td>24.0</td>\n",
       "    </tr>\n",
       "  </tbody>\n",
       "</table>\n",
       "</div>"
      ],
      "text/plain": [
       "  show_id     type                  title         director  \\\n",
       "0      S1    MOVIE   DICK JOHNSON IS DEAD  KIRSTEN JOHNSON   \n",
       "1      S2  TV SHOW          BLOOD & WATER              NAN   \n",
       "2      S3  TV SHOW              GANGLANDS  JULIEN LECLERCQ   \n",
       "3      S4  TV SHOW  JAILBIRDS NEW ORLEANS              NAN   \n",
       "4      S5  TV SHOW           KOTA FACTORY              NAN   \n",
       "\n",
       "                                                cast        country  \\\n",
       "0                                                NAN  UNITED STATES   \n",
       "1  AMA QAMATA, KHOSI NGEMA, GAIL MABALANE, THABAN...   SOUTH AFRICA   \n",
       "2  SAMI BOUAJILA, TRACY GOTOAS, SAMUEL JOUY, NABI...            NAN   \n",
       "3                                                NAN            NAN   \n",
       "4  MAYUR MORE, JITENDRA KUMAR, RANJAN RAJ, ALAM K...          INDIA   \n",
       "\n",
       "   release_year  rating  duration  year_added  month_added  day_added  \n",
       "0          2020      13      90.0      2021.0          9.0       25.0  \n",
       "1          2021      18       2.0      2021.0          9.0       24.0  \n",
       "2          2021      18       1.0      2021.0          9.0       24.0  \n",
       "3          2021      18       1.0      2021.0          9.0       24.0  \n",
       "4          2021      18       2.0      2021.0          9.0       24.0  "
      ]
     },
     "execution_count": 8,
     "metadata": {},
     "output_type": "execute_result"
    }
   ],
   "source": [
    "df.head()"
   ]
  },
  {
   "cell_type": "code",
   "execution_count": 9,
   "id": "00cb4dc7-d580-4c68-bb80-8a66d44ec36c",
   "metadata": {},
   "outputs": [],
   "source": [
    "# Fill any missing titles or ratings with an empty string or mean value"
   ]
  },
  {
   "cell_type": "code",
   "execution_count": 10,
   "id": "4c37aa56-fafb-4da0-8e0f-6504ef31cbaf",
   "metadata": {
    "scrolled": true
   },
   "outputs": [],
   "source": [
    "df['title'] = df['title'].fillna('')"
   ]
  },
  {
   "cell_type": "code",
   "execution_count": 11,
   "id": "c6d5fa72-bd2b-4c96-9e86-76db61e71b6a",
   "metadata": {},
   "outputs": [],
   "source": [
    "df['rating'] = df['rating'].fillna(df['rating'].mean())"
   ]
  },
  {
   "cell_type": "code",
   "execution_count": 12,
   "id": "d5d6060c-70d6-43bb-b733-af43f2b22625",
   "metadata": {},
   "outputs": [],
   "source": [
    "# Create a TF-IDF Vectorizer for the title column"
   ]
  },
  {
   "cell_type": "code",
   "execution_count": 13,
   "id": "6cadc079-2110-4d02-8cdc-2bf6871b9ac0",
   "metadata": {},
   "outputs": [],
   "source": [
    "tfidf = TfidfVectorizer(stop_words='english')"
   ]
  },
  {
   "cell_type": "code",
   "execution_count": 14,
   "id": "2acfa58a-037b-4a61-8e3a-3ea167e95734",
   "metadata": {},
   "outputs": [],
   "source": [
    "tfidf_matrix = tfidf.fit_transform(df['title'])"
   ]
  },
  {
   "cell_type": "code",
   "execution_count": 15,
   "id": "cabad105-7011-437c-bc4a-869dcb790bfe",
   "metadata": {},
   "outputs": [],
   "source": [
    "# Compute the cosine similarity matrix"
   ]
  },
  {
   "cell_type": "code",
   "execution_count": 16,
   "id": "7b0df312-a559-413f-b29f-5f46753569d8",
   "metadata": {},
   "outputs": [],
   "source": [
    "cosine_sim = cosine_similarity(tfidf_matrix, tfidf_matrix)\n"
   ]
  },
  {
   "cell_type": "code",
   "execution_count": 17,
   "id": "9ab89d25-9172-4a99-85fb-3c63469345df",
   "metadata": {},
   "outputs": [],
   "source": [
    "# Function to get recommendations based on title and rating\n",
    "def get_recommendations(title, rating_threshold=0):\n",
    "    # Get the index of the movie that matches the title\n",
    "    idx = df[df['title'].str.contains(title, case=False)].index[0]\n",
    "    # Get the pairwise similarity scores for all titles\n",
    "    sim_scores = list(enumerate(cosine_sim[idx]))\n",
    "    # Sort the titles based on similarity scores\n",
    "    sim_scores = sorted(sim_scores, key=lambda x: x[1], reverse=True)\n",
    "    # Get the indices of the most similar titles\n",
    "    similar_indices = [i[0] for i in sim_scores]\n",
    "    # Create a DataFrame of similar titles\n",
    "    similar_df = df.iloc[similar_indices]\n",
    "    # Filter based on the rating threshold\n",
    "    recommended_titles = similar_df[similar_df['rating'] >= rating_threshold]['title']\n",
    "    # Return the top 10 recommended titles\n",
    "    return recommended_titles.head(10)"
   ]
  },
  {
   "cell_type": "code",
   "execution_count": 18,
   "id": "741c755d-1a57-4246-8aad-26cfe3b41848",
   "metadata": {},
   "outputs": [],
   "source": [
    "# Example usage"
   ]
  },
  {
   "cell_type": "code",
   "execution_count": 19,
   "id": "84203dcc-ac8c-455e-8c65-b801843679aa",
   "metadata": {},
   "outputs": [],
   "source": [
    "recommendations = get_recommendations('LADY IN THE WATER', rating_threshold=10)"
   ]
  },
  {
   "cell_type": "code",
   "execution_count": 20,
   "id": "725feda4-c17e-445c-a042-a802439f85b6",
   "metadata": {},
   "outputs": [
    {
     "name": "stdout",
     "output_type": "stream",
     "text": [
      "7262                 LADY IN THE WATER\n",
      "2769    THERE'S SOMETHING IN THE WATER\n",
      "3115                    THE FIRST LADY\n",
      "4034                            LADY J\n",
      "1                        BLOOD & WATER\n",
      "6587                        DEEP WATER\n",
      "8369                     THE IRON LADY\n",
      "8316               THE FUTURE OF WATER\n",
      "2430                         LADY BIRD\n",
      "5605               THE MEMORY OF WATER\n",
      "Name: title, dtype: object\n"
     ]
    }
   ],
   "source": [
    "print(recommendations)"
   ]
  },
  {
   "cell_type": "code",
   "execution_count": 21,
   "id": "cc4f6a13-70d1-41d4-8444-23675c05ae67",
   "metadata": {},
   "outputs": [
    {
     "name": "stdout",
     "output_type": "stream",
     "text": [
      "2430            LADY BIRD\n",
      "3115       THE FIRST LADY\n",
      "4034               LADY J\n",
      "7561        NATIONAL BIRD\n",
      "7262    LADY IN THE WATER\n",
      "4268             BIRD BOX\n",
      "8369        THE IRON LADY\n",
      "3264      EARTHQUAKE BIRD\n",
      "5498        A YELLOW BIRD\n",
      "4120     HIGH FLYING BIRD\n",
      "Name: title, dtype: object\n"
     ]
    }
   ],
   "source": [
    "recommendations = get_recommendations('LADY BIRD', rating_threshold=9)\n",
    "print(recommendations)"
   ]
  },
  {
   "cell_type": "code",
   "execution_count": 23,
   "id": "6be73e8c-01fe-468d-ba03-2733dd68a8df",
   "metadata": {},
   "outputs": [
    {
     "name": "stdout",
     "output_type": "stream",
     "text": [
      "5605               THE MEMORY OF WATER\n",
      "4179                       MEMORY LOVE\n",
      "2769    THERE'S SOMETHING IN THE WATER\n",
      "7441                      MEMORY GAMES\n",
      "1                        BLOOD & WATER\n",
      "7262                 LADY IN THE WATER\n",
      "6587                        DEEP WATER\n",
      "8316               THE FUTURE OF WATER\n",
      "8552                 THE WATER DIVINER\n",
      "6956                HELL OR HIGH WATER\n",
      "Name: title, dtype: object\n"
     ]
    }
   ],
   "source": [
    "recommendations = get_recommendations('THE MEMORY OF WATER', rating_threshold=9)\n",
    "print(recommendations)"
   ]
  },
  {
   "cell_type": "code",
   "execution_count": null,
   "id": "67f6d18c-d4ca-49de-8c60-9c4fd7d2b87d",
   "metadata": {},
   "outputs": [],
   "source": []
  }
 ],
 "metadata": {
  "kernelspec": {
   "display_name": "Python 3 (ipykernel)",
   "language": "python",
   "name": "python3"
  },
  "language_info": {
   "codemirror_mode": {
    "name": "ipython",
    "version": 3
   },
   "file_extension": ".py",
   "mimetype": "text/x-python",
   "name": "python",
   "nbconvert_exporter": "python",
   "pygments_lexer": "ipython3",
   "version": "3.12.3"
  }
 },
 "nbformat": 4,
 "nbformat_minor": 5
}
